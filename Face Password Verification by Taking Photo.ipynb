{
 "cells": [
  {
   "cell_type": "markdown",
   "id": "b6a558fe",
   "metadata": {},
   "source": [
    "### Needed Packages \n",
    "\n",
    "    pip install opencv-python\n",
    "    conda install -c conda-forge dlib\n",
    "    pip install face_recognition"
   ]
  },
  {
   "cell_type": "code",
   "execution_count": 1,
   "id": "1be7210b",
   "metadata": {},
   "outputs": [],
   "source": [
    "import cv2\n",
    "import face_recognition"
   ]
  },
  {
   "cell_type": "markdown",
   "id": "5749841d",
   "metadata": {},
   "source": [
    "### Test with other person face by taking photo"
   ]
  },
  {
   "cell_type": "code",
   "execution_count": 2,
   "id": "54c9ddfd",
   "metadata": {},
   "outputs": [
    {
     "name": "stdout",
     "output_type": "stream",
     "text": [
      "[0.62085733]\n",
      "[False]\n"
     ]
    },
    {
     "data": {
      "text/plain": [
       "<function destroyAllWindows>"
      ]
     },
     "execution_count": 2,
     "metadata": {},
     "output_type": "execute_result"
    }
   ],
   "source": [
    "image = face_recognition.load_image_file('Nikhil Yadav.jpg')\n",
    "image = cv2.cvtColor(image,cv2.COLOR_BGR2RGB)\n",
    "imagetest = face_recognition.load_image_file('Akhil Yadav.jpg')\n",
    "imagetest = cv2.cvtColor(imagetest,cv2.COLOR_BGR2RGB)\n",
    "face = face_recognition.face_locations(image)[0]\n",
    "#print(face)\n",
    "\n",
    "encodeFace = face_recognition.face_encodings(image)[0]\n",
    "#print(encodeFace)\n",
    "cv2.rectangle(image, (face[3],face[0]),(face[1],face[2]),(0,255,0), 3)\n",
    "\n",
    "faceTest = face_recognition.face_locations(imagetest)[0]\n",
    "encodeTestFace = face_recognition.face_encodings(imagetest)[0]\n",
    "cv2.rectangle(imagetest,(faceTest[3],faceTest[0]),(faceTest[1],faceTest[2]),(0,255,0), 3)\n",
    "\n",
    "res = face_recognition.compare_faces([encodeFace],encodeTestFace)\n",
    "face_dis = face_recognition.face_distance([encodeFace],encodeTestFace)\n",
    "print(face_dis)\n",
    "print(res)\n",
    "cv2.putText(imagetest, f'{res}{round(face_dis[0],2)}',(50,50),cv2.FONT_HERSHEY_SIMPLEX,1,(0,0,255),2)\n",
    "\n",
    "#cv2.imshow('Nikhil', image)\n",
    "cv2.imshow('Akhil Test', imagetest)\n",
    "\n",
    "cv2.waitKey()\n",
    "cv2.destroyAllWindows"
   ]
  },
  {
   "cell_type": "code",
   "execution_count": null,
   "id": "07d0d622",
   "metadata": {},
   "outputs": [],
   "source": []
  },
  {
   "cell_type": "markdown",
   "id": "be061745",
   "metadata": {},
   "source": [
    "### Test with same person face by taking other photo"
   ]
  },
  {
   "cell_type": "code",
   "execution_count": 3,
   "id": "f264b4ef",
   "metadata": {},
   "outputs": [
    {
     "name": "stdout",
     "output_type": "stream",
     "text": [
      "[0.45006561]\n",
      "[True]\n"
     ]
    },
    {
     "data": {
      "text/plain": [
       "<function destroyAllWindows>"
      ]
     },
     "execution_count": 3,
     "metadata": {},
     "output_type": "execute_result"
    }
   ],
   "source": [
    "image = face_recognition.load_image_file('Nikhil Yadav.jpg')\n",
    "image = cv2.cvtColor(image,cv2.COLOR_BGR2RGB)\n",
    "imagetest = face_recognition.load_image_file('Nikhil Yadav-2.jpg')\n",
    "imagetest = cv2.cvtColor(imagetest,cv2.COLOR_BGR2RGB)\n",
    "face = face_recognition.face_locations(image)[0]\n",
    "\n",
    "encodeFace = face_recognition.face_encodings(image)[0]\n",
    "#print(encodeFace)\n",
    "cv2.rectangle(image, (face[3],face[0]),(face[1],face[2]),(0,255,0), 3)\n",
    "\n",
    "faceTest = face_recognition.face_locations(imagetest)[0]\n",
    "encodeTestFace = face_recognition.face_encodings(imagetest)[0]\n",
    "cv2.rectangle(imagetest,(faceTest[3],faceTest[0]),(faceTest[1],faceTest[2]),(0,255,0), 3)\n",
    "\n",
    "res = face_recognition.compare_faces([encodeFace],encodeTestFace)\n",
    "face_dis = face_recognition.face_distance([encodeFace],encodeTestFace)\n",
    "print(face_dis)\n",
    "print(res)\n",
    "cv2.putText(imagetest, f'{res}{round(face_dis[0],2)}',(50,50),cv2.FONT_HERSHEY_SIMPLEX,1,(0,0,255),2)\n",
    "\n",
    "cv2.imshow('Nikhil', image)\n",
    "cv2.imshow('Nikhil Test', imagetest)\n",
    "cv2.waitKey()\n",
    "cv2.destroyAllWindows"
   ]
  },
  {
   "cell_type": "code",
   "execution_count": null,
   "id": "520e5186",
   "metadata": {},
   "outputs": [],
   "source": []
  }
 ],
 "metadata": {
  "kernelspec": {
   "display_name": "Python 3 (ipykernel)",
   "language": "python",
   "name": "python3"
  },
  "language_info": {
   "codemirror_mode": {
    "name": "ipython",
    "version": 3
   },
   "file_extension": ".py",
   "mimetype": "text/x-python",
   "name": "python",
   "nbconvert_exporter": "python",
   "pygments_lexer": "ipython3",
   "version": "3.9.13"
  }
 },
 "nbformat": 4,
 "nbformat_minor": 5
}
