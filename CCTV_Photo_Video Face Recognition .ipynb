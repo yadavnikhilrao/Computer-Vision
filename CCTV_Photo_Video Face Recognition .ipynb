{
 "cells": [
  {
   "cell_type": "markdown",
   "id": "85b07cf4",
   "metadata": {},
   "source": [
    "## Trained Model / Encode Data"
   ]
  },
  {
   "cell_type": "code",
   "execution_count": 1,
   "id": "5a2da2e4",
   "metadata": {},
   "outputs": [
    {
     "name": "stdout",
     "output_type": "stream",
     "text": [
      "All Encodings Successful !!!\n"
     ]
    }
   ],
   "source": [
    "## Importing all Libraries\n",
    "import cv2\n",
    "import face_recognition\n",
    "import numpy as np\n",
    "import os\n",
    "import pandas as pd\n",
    "\n",
    "# Load All Images\n",
    "path = 'images'\n",
    "images = []\n",
    "personName = []\n",
    "myList = os.listdir(path)\n",
    "#print(myList)\n",
    "\n",
    "# Get Id of All Names\n",
    "for cu_img in myList:\n",
    "    current_img = cv2.imread(f'{path}/{cu_img}')\n",
    "    images.append(current_img)\n",
    "    personName.append(os.path.splitext(cu_img)[0])\n",
    "#print(personName)\n",
    "\n",
    "# Encode All Faces\n",
    "def faceEncodings(images):\n",
    "    encodeList = []\n",
    "    for img in images:\n",
    "        img = cv2.cvtColor(img, cv2.COLOR_BGR2RGB)\n",
    "        encode = face_recognition.face_encodings(img)[0]\n",
    "        encodeList.append(encode)\n",
    "    return encodeList\n",
    "\n",
    "# Get Data From Database\n",
    "data = pd.read_csv('ET Group 2.csv')\n",
    "\n",
    "encodelistKnow = faceEncodings(images)\n",
    "print('All Encodings Successful !!!')"
   ]
  },
  {
   "cell_type": "markdown",
   "id": "7b5f4463",
   "metadata": {},
   "source": [
    "## Live Video Face Detection"
   ]
  },
  {
   "cell_type": "code",
   "execution_count": 2,
   "id": "fb55fe11",
   "metadata": {},
   "outputs": [
    {
     "name": "stdout",
     "output_type": "stream",
     "text": [
      "9027800200\n",
      "____________________________________________ \n",
      "\n",
      "Roll Number                            13\n",
      " NAME                        Nikhil Kumar\n",
      "Department                            MCA\n",
      "Year                                  1st\n",
      "Email Address    yadavnikhilrao@gmail.com\n",
      "Mobile Number                  9027800200\n",
      "Gender                               Male\n",
      "Name: 12, dtype: object\n",
      "____________________________________________ \n",
      "\n"
     ]
    }
   ],
   "source": [
    "Data = []\n",
    "All_Persons = []\n",
    "\n",
    "cap = cv2.VideoCapture(0)\n",
    "#cap = cv2.VideoCapture('http://100.91.150.87:8080/video')   # Phone\n",
    "#cap = cv2.VideoCapture('http://192.168.1.10:8080/video')    # Hostel\n",
    "\n",
    "while True:\n",
    "    ret, frame = cap.read()\n",
    "    faces = cv2.resize(frame,(400,400), None, 0.25, 0.25)\n",
    "    faces = cv2.cvtColor(frame, cv2.COLOR_BGR2RGB)\n",
    "    facesCurrentFrame = face_recognition.face_locations(faces)\n",
    "    encodeCurrentFrame = face_recognition.face_encodings(faces, facesCurrentFrame)\n",
    "    \n",
    "    for encodeFace, faceLoc in zip(encodeCurrentFrame, facesCurrentFrame):\n",
    "        matches = face_recognition.compare_faces(encodelistKnow, encodeFace)\n",
    "        faceDis = face_recognition.face_distance(encodelistKnow, encodeFace)        \n",
    "        matchIndex = np.argmin(faceDis)\n",
    "        if matches[matchIndex]:\n",
    "            roll_no = personName[matchIndex]\n",
    "            Data.append(roll_no)\n",
    "            #print(Data)\n",
    "            for ID in Data:\n",
    "                if ID not in All_Persons:\n",
    "                    All_Persons.append(ID)\n",
    "\n",
    "            y1,x2,y2,x1 = faceLoc\n",
    "            y1,x2,y2,x1 = y1*4,x2*4,y2*4,x1*4\n",
    "            cv2.rectangle(frame, (y1,x2,y2,x1), (0,255,0), 2)\n",
    "            cv2.rectangle(frame, (x1, y2-35), (x2,y2),(0,255,0), cv2.FILLED)\n",
    "            cv2.putText(frame, roll_no, (x1 + 6, y2 + 6), cv2.FONT_HERSHEY_COMPLEX, 1, (0,0,255), 2)\n",
    "            \n",
    "    cv2.imshow('Camera',frame)\n",
    "    if (cv2.waitKey(1) & 0xFF == ord('q')):\n",
    "        break\n",
    "                               \n",
    "cap.release()\n",
    "cv2.destroyAllWindows()    \n",
    "\n",
    "for person in All_Persons:\n",
    "    print(person)\n",
    "    for detail in data.index:\n",
    "        if str(data['Mobile Number'][detail]) == person:\n",
    "            print('____________________________________________ \\n')\n",
    "            print(data.loc[detail])\n",
    "            print('____________________________________________ \\n')"
   ]
  },
  {
   "cell_type": "markdown",
   "id": "ef4fee03",
   "metadata": {},
   "source": [
    "## Photo Face Detection"
   ]
  },
  {
   "cell_type": "code",
   "execution_count": 3,
   "id": "f5b5f13a",
   "metadata": {},
   "outputs": [
    {
     "name": "stdout",
     "output_type": "stream",
     "text": [
      "Photo Name: unknown4\n",
      "____________________________________________ \n",
      "\n",
      "Roll Number                       1\n",
      " NAME                   Aman Dhiman\n",
      "Department                      MCA\n",
      "Year                            1st\n",
      "Email Address    ad975645@gmail.com\n",
      "Mobile Number            9536665735\n",
      "Gender                         Male\n",
      "Name: 0, dtype: object\n",
      "____________________________________________ \n",
      "\n"
     ]
    }
   ],
   "source": [
    "# Uploaded Image Path /  Test Image\n",
    "image_path = 'test_images/'+input('Photo Name: ')+\".jpg\"\n",
    "imagetest = face_recognition.load_image_file(image_path)\n",
    "imagetest = cv2.cvtColor(imagetest,cv2.COLOR_BGR2RGB)\n",
    "\n",
    "# Run\n",
    "while True:\n",
    "    \n",
    "    faces = cv2.resize(imagetest,(0,0), None, 0.25, 0.25)\n",
    "    faces = cv2.cvtColor(imagetest, cv2.COLOR_BGR2RGB)\n",
    "    facesCurrentFrame = face_recognition.face_locations(faces)\n",
    "    encodeCurrentFrame = face_recognition.face_encodings(faces, facesCurrentFrame)\n",
    "    \n",
    "    for encodeFace, faceLoc in zip(encodeCurrentFrame, facesCurrentFrame):\n",
    "        matches = face_recognition.compare_faces(encodelistKnow, encodeFace)\n",
    "        faceDis = face_recognition.face_distance(encodelistKnow, encodeFace)        \n",
    "        matchIndex = np.argmin(faceDis)\n",
    "        if matches[matchIndex]:\n",
    "            roll_no = personName[matchIndex]\n",
    "            #print(roll_no) \n",
    "            \n",
    "            y1,x2,y2,x1 = faceLoc\n",
    "\n",
    "            y1,x2,y2,x1 = y1*4,x2*4,y2*4,x1*4\n",
    "            cv2.rectangle(imagetest, (y1,x2,y2,x1), (0,255,0), 2)\n",
    "            cv2.rectangle(imagetest, (x1, y2-35), (x2,y2),(0,255,0), cv2.FILLED)\n",
    "            cv2.putText(imagetest, roll_no, (x1 + 6, y2 + 6), cv2.FONT_HERSHEY_COMPLEX, 1, (0,0,255), 2)\n",
    "            \n",
    "            #cv2.imshow('Person', imagetest)\n",
    "            cv2.waitKey(0)==ord('q')\n",
    "            cv2.destroyAllWindows\n",
    "    break\n",
    "    \n",
    "for detail in data.index:\n",
    "    if str(data['Mobile Number'][detail]) == roll_no:\n",
    "        print('____________________________________________ \\n')\n",
    "        print(data.loc[detail])\n",
    "        print('____________________________________________ \\n')\n"
   ]
  },
  {
   "cell_type": "markdown",
   "id": "f751f6c6",
   "metadata": {},
   "source": [
    "## Recorded Video Face Detection"
   ]
  },
  {
   "cell_type": "code",
   "execution_count": null,
   "id": "7e2c216d",
   "metadata": {},
   "outputs": [],
   "source": [
    "Data = []\n",
    "All_Persons = []\n",
    "\n",
    "video_path = 'test_videos/'+input('Video Name: ')+\".mp4\"\n",
    "cap = cv2.VideoCapture(video_path)\n",
    "\n",
    "while True:\n",
    "    ret,frame = cap.read()\n",
    "    \n",
    "    faces = cv2.resize(frame,(400,400), None, 0.25, 0.25)\n",
    "    faces = cv2.cvtColor(frame, cv2.COLOR_BGR2RGB)\n",
    "    facesCurrentFrame = face_recognition.face_locations(faces)\n",
    "    encodeCurrentFrame = face_recognition.face_encodings(faces, facesCurrentFrame)\n",
    "    \n",
    "    for encodeFace, faceLoc in zip(encodeCurrentFrame, facesCurrentFrame):\n",
    "        matches = face_recognition.compare_faces(encodelistKnow, encodeFace)\n",
    "        faceDis = face_recognition.face_distance(encodelistKnow, encodeFace)        \n",
    "        matchIndex = np.argmin(faceDis)\n",
    "        if matches[matchIndex]:\n",
    "            roll_no = personName[matchIndex]\n",
    "            Data.append(roll_no)\n",
    "            #print(Data)\n",
    "            for ID in Data:\n",
    "                if ID not in All_Persons:\n",
    "                    All_Persons.append(ID)\n",
    "\n",
    "            y1,x2,y2,x1 = faceLoc\n",
    "            y1,x2,y2,x1 = y1*4,x2*4,y2*4,x1*4\n",
    "            cv2.rectangle(frame, (y1,x2,y2,x1), (0,255,0), 2)\n",
    "            cv2.rectangle(frame, (x1, y2-35), (x2,y2),(0,255,0), cv2.FILLED)\n",
    "            cv2.putText(frame, roll_no, (x1 + 6, y2 + 6), cv2.FONT_HERSHEY_COMPLEX, 1, (0,0,255), 2)\n",
    "            cv2.imshow('Camera',frame)\n",
    "    \n",
    "    cv2.imshow(\"Video\",frame)\n",
    "    if cv2.waitKey(1) & 0xFF == ord('q'):\n",
    "        break\n",
    "cap.release()\n",
    "cv2.destroyAllWindows()\n",
    "\n",
    "for person in All_Persons:\n",
    "    print(person)\n",
    "    for detail in data.index:\n",
    "        if str(data['Mobile Number'][detail]) == person:\n",
    "            print('____________________________________________ \\n')\n",
    "            print(data.loc[detail])\n",
    "            print('____________________________________________ \\n')"
   ]
  },
  {
   "cell_type": "code",
   "execution_count": 5,
   "id": "c81f556e",
   "metadata": {},
   "outputs": [
    {
     "name": "stdout",
     "output_type": "stream",
     "text": [
      "Male      15\n",
      "Female     9\n",
      "Name: Gender, dtype: int64\n"
     ]
    },
    {
     "data": {
      "text/plain": [
       "<AxesSubplot:ylabel='Gender'>"
      ]
     },
     "execution_count": 5,
     "metadata": {},
     "output_type": "execute_result"
    },
    {
     "data": {
      "image/png": "[encoded data removed]",
      "text/plain": [
       "<Figure size 400x400 with 1 Axes>"
      ]
     },
     "metadata": {},
     "output_type": "display_data"
    }
   ],
   "source": [
    "# Data Visulisation\n",
    "from matplotlib import pyplot as plt\n",
    "print(data['Gender'].value_counts())\n",
    "data['Gender'].value_counts().plot(kind='pie', figsize = (4,4),autopct='%2.0f%%')"
   ]
  },
  {
   "cell_type": "code",
   "execution_count": 7,
   "id": "e42a7a60",
   "metadata": {},
   "outputs": [],
   "source": [
    "# df = pd.read_csv('ET Group 2.csv')"
   ]
  }
 ],
 "metadata": {
  "kernelspec": {
   "display_name": "Python 3 (ipykernel)",
   "language": "python",
   "name": "python3"
  },
  "language_info": {
   "codemirror_mode": {
    "name": "ipython",
    "version": 3
   },
   "file_extension": ".py",
   "mimetype": "text/x-python",
   "name": "python",
   "nbconvert_exporter": "python",
   "pygments_lexer": "ipython3",
   "version": "3.9.13"
  }
 },
 "nbformat": 4,
 "nbformat_minor": 5
}
